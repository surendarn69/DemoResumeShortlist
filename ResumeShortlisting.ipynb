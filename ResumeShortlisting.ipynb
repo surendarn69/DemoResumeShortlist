{
  "nbformat": 4,
  "nbformat_minor": 0,
  "metadata": {
    "colab": {
      "provenance": [],
      "authorship_tag": "ABX9TyNcoHVKp8TW15886d1fM3kI",
      "include_colab_link": true
    },
    "kernelspec": {
      "name": "python3",
      "display_name": "Python 3"
    },
    "language_info": {
      "name": "python"
    }
  },
  "cells": [
    {
      "cell_type": "markdown",
      "metadata": {
        "id": "view-in-github",
        "colab_type": "text"
      },
      "source": [
        "<a href=\"https://colab.research.google.com/github/surendarn69/DemoResumeShortlist/blob/main/ResumeShortlisting.ipynb\" target=\"_parent\"><img src=\"https://colab.research.google.com/assets/colab-badge.svg\" alt=\"Open In Colab\"/></a>"
      ]
    },
    {
      "cell_type": "code",
      "execution_count": 1,
      "metadata": {
        "colab": {
          "base_uri": "https://localhost:8080/",
          "height": 73
        },
        "id": "A-CbyTEf1D7P",
        "outputId": "dbcda107-bdb0-4ab5-8f50-9d68318ca7bf"
      },
      "outputs": [
        {
          "output_type": "display_data",
          "data": {
            "text/plain": [
              "<IPython.core.display.HTML object>"
            ],
            "text/html": [
              "\n",
              "     <input type=\"file\" id=\"files-e3e13d07-d731-497f-a25b-3b2310793020\" name=\"files[]\" multiple disabled\n",
              "        style=\"border:none\" />\n",
              "     <output id=\"result-e3e13d07-d731-497f-a25b-3b2310793020\">\n",
              "      Upload widget is only available when the cell has been executed in the\n",
              "      current browser session. Please rerun this cell to enable.\n",
              "      </output>\n",
              "      <script>// Copyright 2017 Google LLC\n",
              "//\n",
              "// Licensed under the Apache License, Version 2.0 (the \"License\");\n",
              "// you may not use this file except in compliance with the License.\n",
              "// You may obtain a copy of the License at\n",
              "//\n",
              "//      http://www.apache.org/licenses/LICENSE-2.0\n",
              "//\n",
              "// Unless required by applicable law or agreed to in writing, software\n",
              "// distributed under the License is distributed on an \"AS IS\" BASIS,\n",
              "// WITHOUT WARRANTIES OR CONDITIONS OF ANY KIND, either express or implied.\n",
              "// See the License for the specific language governing permissions and\n",
              "// limitations under the License.\n",
              "\n",
              "/**\n",
              " * @fileoverview Helpers for google.colab Python module.\n",
              " */\n",
              "(function(scope) {\n",
              "function span(text, styleAttributes = {}) {\n",
              "  const element = document.createElement('span');\n",
              "  element.textContent = text;\n",
              "  for (const key of Object.keys(styleAttributes)) {\n",
              "    element.style[key] = styleAttributes[key];\n",
              "  }\n",
              "  return element;\n",
              "}\n",
              "\n",
              "// Max number of bytes which will be uploaded at a time.\n",
              "const MAX_PAYLOAD_SIZE = 100 * 1024;\n",
              "\n",
              "function _uploadFiles(inputId, outputId) {\n",
              "  const steps = uploadFilesStep(inputId, outputId);\n",
              "  const outputElement = document.getElementById(outputId);\n",
              "  // Cache steps on the outputElement to make it available for the next call\n",
              "  // to uploadFilesContinue from Python.\n",
              "  outputElement.steps = steps;\n",
              "\n",
              "  return _uploadFilesContinue(outputId);\n",
              "}\n",
              "\n",
              "// This is roughly an async generator (not supported in the browser yet),\n",
              "// where there are multiple asynchronous steps and the Python side is going\n",
              "// to poll for completion of each step.\n",
              "// This uses a Promise to block the python side on completion of each step,\n",
              "// then passes the result of the previous step as the input to the next step.\n",
              "function _uploadFilesContinue(outputId) {\n",
              "  const outputElement = document.getElementById(outputId);\n",
              "  const steps = outputElement.steps;\n",
              "\n",
              "  const next = steps.next(outputElement.lastPromiseValue);\n",
              "  return Promise.resolve(next.value.promise).then((value) => {\n",
              "    // Cache the last promise value to make it available to the next\n",
              "    // step of the generator.\n",
              "    outputElement.lastPromiseValue = value;\n",
              "    return next.value.response;\n",
              "  });\n",
              "}\n",
              "\n",
              "/**\n",
              " * Generator function which is called between each async step of the upload\n",
              " * process.\n",
              " * @param {string} inputId Element ID of the input file picker element.\n",
              " * @param {string} outputId Element ID of the output display.\n",
              " * @return {!Iterable<!Object>} Iterable of next steps.\n",
              " */\n",
              "function* uploadFilesStep(inputId, outputId) {\n",
              "  const inputElement = document.getElementById(inputId);\n",
              "  inputElement.disabled = false;\n",
              "\n",
              "  const outputElement = document.getElementById(outputId);\n",
              "  outputElement.innerHTML = '';\n",
              "\n",
              "  const pickedPromise = new Promise((resolve) => {\n",
              "    inputElement.addEventListener('change', (e) => {\n",
              "      resolve(e.target.files);\n",
              "    });\n",
              "  });\n",
              "\n",
              "  const cancel = document.createElement('button');\n",
              "  inputElement.parentElement.appendChild(cancel);\n",
              "  cancel.textContent = 'Cancel upload';\n",
              "  const cancelPromise = new Promise((resolve) => {\n",
              "    cancel.onclick = () => {\n",
              "      resolve(null);\n",
              "    };\n",
              "  });\n",
              "\n",
              "  // Wait for the user to pick the files.\n",
              "  const files = yield {\n",
              "    promise: Promise.race([pickedPromise, cancelPromise]),\n",
              "    response: {\n",
              "      action: 'starting',\n",
              "    }\n",
              "  };\n",
              "\n",
              "  cancel.remove();\n",
              "\n",
              "  // Disable the input element since further picks are not allowed.\n",
              "  inputElement.disabled = true;\n",
              "\n",
              "  if (!files) {\n",
              "    return {\n",
              "      response: {\n",
              "        action: 'complete',\n",
              "      }\n",
              "    };\n",
              "  }\n",
              "\n",
              "  for (const file of files) {\n",
              "    const li = document.createElement('li');\n",
              "    li.append(span(file.name, {fontWeight: 'bold'}));\n",
              "    li.append(span(\n",
              "        `(${file.type || 'n/a'}) - ${file.size} bytes, ` +\n",
              "        `last modified: ${\n",
              "            file.lastModifiedDate ? file.lastModifiedDate.toLocaleDateString() :\n",
              "                                    'n/a'} - `));\n",
              "    const percent = span('0% done');\n",
              "    li.appendChild(percent);\n",
              "\n",
              "    outputElement.appendChild(li);\n",
              "\n",
              "    const fileDataPromise = new Promise((resolve) => {\n",
              "      const reader = new FileReader();\n",
              "      reader.onload = (e) => {\n",
              "        resolve(e.target.result);\n",
              "      };\n",
              "      reader.readAsArrayBuffer(file);\n",
              "    });\n",
              "    // Wait for the data to be ready.\n",
              "    let fileData = yield {\n",
              "      promise: fileDataPromise,\n",
              "      response: {\n",
              "        action: 'continue',\n",
              "      }\n",
              "    };\n",
              "\n",
              "    // Use a chunked sending to avoid message size limits. See b/62115660.\n",
              "    let position = 0;\n",
              "    do {\n",
              "      const length = Math.min(fileData.byteLength - position, MAX_PAYLOAD_SIZE);\n",
              "      const chunk = new Uint8Array(fileData, position, length);\n",
              "      position += length;\n",
              "\n",
              "      const base64 = btoa(String.fromCharCode.apply(null, chunk));\n",
              "      yield {\n",
              "        response: {\n",
              "          action: 'append',\n",
              "          file: file.name,\n",
              "          data: base64,\n",
              "        },\n",
              "      };\n",
              "\n",
              "      let percentDone = fileData.byteLength === 0 ?\n",
              "          100 :\n",
              "          Math.round((position / fileData.byteLength) * 100);\n",
              "      percent.textContent = `${percentDone}% done`;\n",
              "\n",
              "    } while (position < fileData.byteLength);\n",
              "  }\n",
              "\n",
              "  // All done.\n",
              "  yield {\n",
              "    response: {\n",
              "      action: 'complete',\n",
              "    }\n",
              "  };\n",
              "}\n",
              "\n",
              "scope.google = scope.google || {};\n",
              "scope.google.colab = scope.google.colab || {};\n",
              "scope.google.colab._files = {\n",
              "  _uploadFiles,\n",
              "  _uploadFilesContinue,\n",
              "};\n",
              "})(self);\n",
              "</script> "
            ]
          },
          "metadata": {}
        },
        {
          "output_type": "stream",
          "name": "stdout",
          "text": [
            "Saving UpdatedResumeDataSet.csv to UpdatedResumeDataSet.csv\n"
          ]
        }
      ],
      "source": [
        "from google.colab import files\n",
        "uploaded = files.upload()\n"
      ]
    },
    {
      "cell_type": "code",
      "source": [
        "import pandas as pd\n",
        "\n",
        "# Load the dataset\n",
        "file_path = \"UpdatedResumeDataSet.csv\"  # Ensure this is the correct filename\n",
        "df = pd.read_csv(file_path)\n",
        "\n",
        "# Display all column names\n",
        "print(df.columns)"
      ],
      "metadata": {
        "colab": {
          "base_uri": "https://localhost:8080/"
        },
        "id": "MROJrwjh2Zaf",
        "outputId": "df6c89e8-79a4-451f-e798-d8caecf309d6"
      },
      "execution_count": 2,
      "outputs": [
        {
          "output_type": "stream",
          "name": "stdout",
          "text": [
            "Index(['Category', 'Resume'], dtype='object')\n"
          ]
        }
      ]
    },
    {
      "cell_type": "code",
      "source": [
        "!pip install nltk"
      ],
      "metadata": {
        "colab": {
          "base_uri": "https://localhost:8080/"
        },
        "id": "kRzDrHDd2ei4",
        "outputId": "81dc790b-f9a8-4909-a229-db3bad9eacfe"
      },
      "execution_count": 3,
      "outputs": [
        {
          "output_type": "stream",
          "name": "stdout",
          "text": [
            "Requirement already satisfied: nltk in /usr/local/lib/python3.11/dist-packages (3.9.1)\n",
            "Requirement already satisfied: click in /usr/local/lib/python3.11/dist-packages (from nltk) (8.1.8)\n",
            "Requirement already satisfied: joblib in /usr/local/lib/python3.11/dist-packages (from nltk) (1.4.2)\n",
            "Requirement already satisfied: regex>=2021.8.3 in /usr/local/lib/python3.11/dist-packages (from nltk) (2024.11.6)\n",
            "Requirement already satisfied: tqdm in /usr/local/lib/python3.11/dist-packages (from nltk) (4.67.1)\n"
          ]
        }
      ]
    },
    {
      "cell_type": "code",
      "source": [
        "import pandas as pd\n",
        "import nltk\n",
        "from nltk.tokenize import word_tokenize\n",
        "\n",
        "nltk.download('punkt')  # Download tokenizer"
      ],
      "metadata": {
        "colab": {
          "base_uri": "https://localhost:8080/"
        },
        "id": "epfIbUoQ2jE3",
        "outputId": "721ee698-8288-4b05-b5ac-778118dd306b"
      },
      "execution_count": 4,
      "outputs": [
        {
          "output_type": "stream",
          "name": "stderr",
          "text": [
            "[nltk_data] Downloading package punkt to /root/nltk_data...\n",
            "[nltk_data]   Unzipping tokenizers/punkt.zip.\n"
          ]
        },
        {
          "output_type": "execute_result",
          "data": {
            "text/plain": [
              "True"
            ]
          },
          "metadata": {},
          "execution_count": 4
        }
      ]
    },
    {
      "cell_type": "code",
      "source": [
        "# Convert resume text to lowercase for case-insensitive search\n",
        "df['Resume'] = df['Resume'].astype(str).str.lower()\n",
        "\n",
        "# Shortlist resumes containing \"Python\"\n",
        "filtered_df = df[df['Resume'].str.contains('python')]\n",
        "\n",
        "# Display shortlisted candidates\n",
        "print(filtered_df)"
      ],
      "metadata": {
        "colab": {
          "base_uri": "https://localhost:8080/"
        },
        "id": "KTHd2R1e2sK3",
        "outputId": "69ebc0ff-1362-4d1a-f32a-73061a092b7a"
      },
      "execution_count": 5,
      "outputs": [
        {
          "output_type": "stream",
          "name": "stdout",
          "text": [
            "         Category                                             Resume\n",
            "0    Data Science  skills * programming languages: python (pandas...\n",
            "1    Data Science  education details \\r\\nmay 2013 to may 2017 b.e...\n",
            "2    Data Science  areas of interest deep learning, control syste...\n",
            "3    Data Science  skills â¢ r â¢ python â¢ sap hana â¢ table...\n",
            "4    Data Science  education details \\r\\n mca   ymcaust,  faridab...\n",
            "..            ...                                                ...\n",
            "869    Blockchain  key skills: programing languages: c, c++, pyth...\n",
            "874    Blockchain  key skills: programing languages: c, c++, pyth...\n",
            "879    Blockchain  key skills: programing languages: c, c++, pyth...\n",
            "884    Blockchain  key skills: programing languages: c, c++, pyth...\n",
            "889    Blockchain  key skills: programing languages: c, c++, pyth...\n",
            "\n",
            "[176 rows x 2 columns]\n"
          ]
        }
      ]
    },
    {
      "cell_type": "code",
      "source": [
        "import re\n",
        "\n",
        "def extract_experience(resume_text):\n",
        "    match = re.search(r'(\\d+)\\s*(?:years?|yrs?)\\s*experience', resume_text)\n",
        "    return int(match.group(1)) if match else 0  # Default to 0 if no match\n",
        "\n",
        "# Apply function to extract experience\n",
        "df['Experience'] = df['Resume'].apply(extract_experience)\n",
        "\n",
        "# Shortlist candidates with Python & >2 years of experience\n",
        "filtered_df = df[(df['Resume'].str.contains('python')) & (df['Experience'] > 2)]\n",
        "\n",
        "print(filtered_df)"
      ],
      "metadata": {
        "colab": {
          "base_uri": "https://localhost:8080/"
        },
        "id": "eW81K8yq2zpy",
        "outputId": "cc48205f-2f07-4631-e5cd-2317aab1ffb0"
      },
      "execution_count": 6,
      "outputs": [
        {
          "output_type": "stream",
          "name": "stdout",
          "text": [
            "Empty DataFrame\n",
            "Columns: [Category, Resume, Experience]\n",
            "Index: []\n"
          ]
        }
      ]
    },
    {
      "cell_type": "code",
      "source": [
        "print(df[['Resume', 'Experience']].head(10))  # Show first 10 resumes with extracted experience"
      ],
      "metadata": {
        "colab": {
          "base_uri": "https://localhost:8080/"
        },
        "id": "oS9kvOrP2-ai",
        "outputId": "b150a690-0207-45f2-d6ec-3372ff1d1c06"
      },
      "execution_count": 7,
      "outputs": [
        {
          "output_type": "stream",
          "name": "stdout",
          "text": [
            "                                              Resume  Experience\n",
            "0  skills * programming languages: python (pandas...           0\n",
            "1  education details \\r\\nmay 2013 to may 2017 b.e...           0\n",
            "2  areas of interest deep learning, control syste...           0\n",
            "3  skills â¢ r â¢ python â¢ sap hana â¢ table...           0\n",
            "4  education details \\r\\n mca   ymcaust,  faridab...           0\n",
            "5  skills c basics, iot, python, matlab, data sci...           0\n",
            "6  skills â¢ python â¢ tableau â¢ data visuali...           0\n",
            "7  education details \\r\\n b.tech   rayat and bahr...           0\n",
            "8  personal skills â¢ ability to quickly grasp t...           0\n",
            "9  expertise â data and quantitative analysis â...           0\n"
          ]
        }
      ]
    },
    {
      "cell_type": "code",
      "source": [
        "import re\n",
        "\n",
        "def extract_experience(resume_text):\n",
        "    matches = re.findall(r'(\\d+)\\s*(?:years?|yrs?)', resume_text)\n",
        "    return max(map(int, matches)) if matches else 0  # Get max experience if multiple values exist\n",
        "\n",
        "df['Experience'] = df['Resume'].apply(extract_experience)"
      ],
      "metadata": {
        "id": "4MiyQepP3_ej"
      },
      "execution_count": 8,
      "outputs": []
    },
    {
      "cell_type": "code",
      "source": [
        "print(df[df['Resume'].str.contains('python', case=False, na=False)][['Resume']].head(10))"
      ],
      "metadata": {
        "colab": {
          "base_uri": "https://localhost:8080/"
        },
        "id": "UsBXTkjR4DHV",
        "outputId": "2a7d0e74-29fd-4f57-c869-44e9932d137f"
      },
      "execution_count": 9,
      "outputs": [
        {
          "output_type": "stream",
          "name": "stdout",
          "text": [
            "                                              Resume\n",
            "0  skills * programming languages: python (pandas...\n",
            "1  education details \\r\\nmay 2013 to may 2017 b.e...\n",
            "2  areas of interest deep learning, control syste...\n",
            "3  skills â¢ r â¢ python â¢ sap hana â¢ table...\n",
            "4  education details \\r\\n mca   ymcaust,  faridab...\n",
            "5  skills c basics, iot, python, matlab, data sci...\n",
            "6  skills â¢ python â¢ tableau â¢ data visuali...\n",
            "7  education details \\r\\n b.tech   rayat and bahr...\n",
            "8  personal skills â¢ ability to quickly grasp t...\n",
            "9  expertise â data and quantitative analysis â...\n"
          ]
        }
      ]
    },
    {
      "cell_type": "code",
      "source": [
        "filtered_df = df[(df['Resume'].str.contains('python', case=False, na=False)) & (df['Experience'] > 2)]\n",
        "\n",
        "# Display shortlisted resumes\n",
        "print(filtered_df)"
      ],
      "metadata": {
        "colab": {
          "base_uri": "https://localhost:8080/"
        },
        "id": "umSM8x_44LuB",
        "outputId": "81c599c2-320f-419a-8acf-b48d7c861a25"
      },
      "execution_count": 10,
      "outputs": [
        {
          "output_type": "stream",
          "name": "stdout",
          "text": [
            "             Category                                             Resume  \\\n",
            "551  Python Developer  technical skills / responsibilities: â¢ hands...   \n",
            "557  Python Developer  technical skills / responsibilities: â¢ hands...   \n",
            "563  Python Developer  technical skills / responsibilities: â¢ hands...   \n",
            "569  Python Developer  technical skills / responsibilities: â¢ hands...   \n",
            "575  Python Developer  technical skills / responsibilities: â¢ hands...   \n",
            "581  Python Developer  technical skills / responsibilities: â¢ hands...   \n",
            "587  Python Developer  technical skills / responsibilities: â¢ hands...   \n",
            "593  Python Developer  technical skills / responsibilities: â¢ hands...   \n",
            "604   DevOps Engineer  total it experience 15 years. core expertise i...   \n",
            "\n",
            "     Experience  \n",
            "551           4  \n",
            "557           4  \n",
            "563           4  \n",
            "569           4  \n",
            "575           4  \n",
            "581           4  \n",
            "587           4  \n",
            "593           4  \n",
            "604          15  \n"
          ]
        }
      ]
    },
    {
      "cell_type": "code",
      "source": [
        "def calculate_resume_score(resume_text, experience):\n",
        "    score = 0\n",
        "\n",
        "    # Check for Python skills\n",
        "    if \"python\" in resume_text.lower():\n",
        "        score += 50  # Give 50% weightage to skill match\n",
        "\n",
        "    # Assign weightage based on experience\n",
        "    if experience >= 5:\n",
        "        score += 50  # Full score for 5+ years\n",
        "    elif experience >= 3:\n",
        "        score += 30  # Medium score for 3-4 years\n",
        "    elif experience > 0:\n",
        "        score += 10  # Small score for 1-2 years\n",
        "\n",
        "    return score / 100  # Convert to percentage (0.0 to 1.0 scale)\n"
      ],
      "metadata": {
        "id": "xmmHyGNt4UOL"
      },
      "execution_count": 11,
      "outputs": []
    },
    {
      "cell_type": "code",
      "source": [
        "df['Score'] = df.apply(lambda row: calculate_resume_score(row['Resume'], row['Experience']), axis=1)\n"
      ],
      "metadata": {
        "id": "6B1yHtp74Y_K"
      },
      "execution_count": 12,
      "outputs": []
    },
    {
      "cell_type": "code",
      "source": [
        "df['Score (%)'] = (df['Score'] * 100).round(2)  # Convert 0.85 → 85%\n"
      ],
      "metadata": {
        "id": "EVmItBwp4elg"
      },
      "execution_count": 13,
      "outputs": []
    },
    {
      "cell_type": "code",
      "source": [
        "print(df[['Category', 'Resume', 'Experience', 'Score (%)']].sort_values(by='Score (%)', ascending=False).head(10))\n"
      ],
      "metadata": {
        "colab": {
          "base_uri": "https://localhost:8080/"
        },
        "id": "-qS_STDa4nBR",
        "outputId": "8e670b10-080c-4735-a69a-f4cda1679857"
      },
      "execution_count": 14,
      "outputs": [
        {
          "output_type": "stream",
          "name": "stdout",
          "text": [
            "             Category                                             Resume  \\\n",
            "604   DevOps Engineer  total it experience 15 years. core expertise i...   \n",
            "587  Python Developer  technical skills / responsibilities: â¢ hands...   \n",
            "569  Python Developer  technical skills / responsibilities: â¢ hands...   \n",
            "593  Python Developer  technical skills / responsibilities: â¢ hands...   \n",
            "563  Python Developer  technical skills / responsibilities: â¢ hands...   \n",
            "551  Python Developer  technical skills / responsibilities: â¢ hands...   \n",
            "557  Python Developer  technical skills / responsibilities: â¢ hands...   \n",
            "575  Python Developer  technical skills / responsibilities: â¢ hands...   \n",
            "581  Python Developer  technical skills / responsibilities: â¢ hands...   \n",
            "628   DevOps Engineer  software proficiency: â¢ languages: basics of...   \n",
            "\n",
            "     Experience  Score (%)  \n",
            "604          15      100.0  \n",
            "587           4       80.0  \n",
            "569           4       80.0  \n",
            "593           4       80.0  \n",
            "563           4       80.0  \n",
            "551           4       80.0  \n",
            "557           4       80.0  \n",
            "575           4       80.0  \n",
            "581           4       80.0  \n",
            "628           1       60.0  \n"
          ]
        }
      ]
    }
  ]
}